{
 "cells": [
  {
   "cell_type": "markdown",
   "metadata": {},
   "source": [
    "## Operando con variables\n",
    "\n",
    "Hemos visto ya diferentes tipos de estructuras de datos y como podemos almacenarlos bajo unos seudonimos denominados variables. La pregunta que puede surgir ahora es: ¿Puedo hacer algo mas con estas variables?\n",
    "Es el momento de introducir a las funciones.\n",
    "\n",
    "Una función en programacion es un subprograma o un subalgoritmo el cual opera con unos parametros de entrada. Esta nos permitirá resolver una tarea especifica. En Python ya existen unas funciones prestablecidas, pero de igual forma podemos crear unas nuevas para resolver problemas muy particulares. \n",
    "**A continuacion se mostraran algunas funciones u operaciones que ya existen y son muy utiles para el manejo de variables**\n",
    "\n",
    "Existen distintos tipos de operadores o funciones a la hora del manejo de variables. La forma mas sencilla de acceder a ellos es escribiendo el nombre de la variable, seguido de un punto y seguido a esto pulsar la tecla TAB `nombre_de_la_variable.<TAB>`. Se desplegara una lista de funciones pre-definidas dependiendo del tipo de variable que estemos tratando, por ejemplo, en la imagen de acontinuacion se muestra la lista de funciones disponible para una variable tipo cadena o String.\n",
    "\n",
    "\n",
    "![](Desktop/MOCs/cadena.PNG)\n",
    "\n",
    "\n",
    "Ya que vimos un ejemplo del listado de operadores que ofrece Python para las variables tipo String, iniciemos con ellas. \n",
    "\n",
    "### Operando con Strings\n",
    "\n",
    "Iniciaremos con dos operaciones muy sencillas que se pueden aplicar a las variables String, estas son .Upper() y .Lower(). Estas se aplican a la variable pero no la modifican como tal, solo nos muestran una version alterada de esta.\n",
    "\n",
    "\n"
   ]
  },
  {
   "cell_type": "code",
   "execution_count": 52,
   "metadata": {},
   "outputs": [
    {
     "data": {
      "text/plain": [
       "'¡2¡HABLEMOS DE FUNCIONES !1!'"
      ]
     },
     "execution_count": 52,
     "metadata": {},
     "output_type": "execute_result"
    }
   ],
   "source": [
    "mi_string =(\"¡2¡Hablemos de funciones !1!\")\n",
    "mi_string.upper()"
   ]
  },
  {
   "cell_type": "code",
   "execution_count": 53,
   "metadata": {},
   "outputs": [
    {
     "data": {
      "text/plain": [
       "'¡2¡hablemos de funciones !1!'"
      ]
     },
     "execution_count": 53,
     "metadata": {},
     "output_type": "execute_result"
    }
   ],
   "source": [
    "mi_string.lower()"
   ]
  },
  {
   "cell_type": "code",
   "execution_count": 54,
   "metadata": {},
   "outputs": [
    {
     "data": {
      "text/plain": [
       "'¡2¡Hablemos de funciones !1!'"
      ]
     },
     "execution_count": 54,
     "metadata": {},
     "output_type": "execute_result"
    }
   ],
   "source": [
    "mi_string\n"
   ]
  },
  {
   "cell_type": "markdown",
   "metadata": {},
   "source": [
    "Notas\n",
    "   * Se muestra una version modificada de la variable pero esta no se modifica.\n",
    "   * No importa que la cadena de caracteres tenga numeros, estos simplemente no se afectan por la función.\n",
    "\n",
    "De igual forma, podemos contar cuantas veces esta cierto caracter o palabra en un String, para esto utilizamos la funcion .count(\"parametro de busqueda\") y le damos como parametro el caracter o la palabra que deseamos buscar. Un ejemplo:"
   ]
  },
  {
   "cell_type": "code",
   "execution_count": 55,
   "metadata": {},
   "outputs": [
    {
     "data": {
      "text/plain": [
       "'La casa se llenó de amor. Aureliano lo expresó en versos que no tenían principio ni fin. Los escribía en los ásperos pergaminos que le regalaba Melquíades, en las paredes del baño, en la piel de sus brazos, y en todos aparecía Remedios transfigurada: Remedios en el aire soporífero de las dos de la tarde, Remedios en la callada respiración de las rosas, Remedios en la clepsidra secreta de las polillas, Remedios en el vapor del pan al amanecer, Remedios en todas partes y Remedios para siempre'"
      ]
     },
     "execution_count": 55,
     "metadata": {},
     "output_type": "execute_result"
    }
   ],
   "source": [
    "nuevo_string= (\"La casa se llenó de amor. Aureliano lo expresó en versos que no tenían principio ni fin. Los escribía en los ásperos pergaminos que le regalaba Melquíades, en las paredes del baño, en la piel de sus brazos, y en todos aparecía Remedios transfigurada: Remedios en el aire soporífero de las dos de la tarde, Remedios en la callada respiración de las rosas, Remedios en la clepsidra secreta de las polillas, Remedios en el vapor del pan al amanecer, Remedios en todas partes y Remedios para siempre\")\n",
    "nuevo_string"
   ]
  },
  {
   "cell_type": "code",
   "execution_count": 56,
   "metadata": {},
   "outputs": [
    {
     "data": {
      "text/plain": [
       "7"
      ]
     },
     "execution_count": 56,
     "metadata": {},
     "output_type": "execute_result"
    }
   ],
   "source": [
    "#Queremos saber cuantas veces utiliza Gabriel Garcia la palabra \"Remedios\" en este parrafo.\n",
    "nuevo_string.count(\"Remedios\")"
   ]
  },
  {
   "cell_type": "markdown",
   "metadata": {},
   "source": [
    "Pero si lo que queremos es saber si se utilizo una palabra en particular, como puede ser \"soporífero\", existe una funcion .find() la cual nos indica la posicion de la palabra en cuestion. vamos con el ejemplo."
   ]
  },
  {
   "cell_type": "code",
   "execution_count": 57,
   "metadata": {},
   "outputs": [
    {
     "data": {
      "text/plain": [
       "271"
      ]
     },
     "execution_count": 57,
     "metadata": {},
     "output_type": "execute_result"
    }
   ],
   "source": [
    "nuevo_string.find(\"soporífero\")"
   ]
  },
  {
   "cell_type": "markdown",
   "metadata": {},
   "source": [
    "Este 271 hace referencia a la posicion de esta palabra en el parrafo ?Qué pasaría si buscamos entonces una palabra que no existe en el parrafo?"
   ]
  },
  {
   "cell_type": "code",
   "execution_count": 58,
   "metadata": {},
   "outputs": [
    {
     "data": {
      "text/plain": [
       "-1"
      ]
     },
     "execution_count": 58,
     "metadata": {},
     "output_type": "execute_result"
    }
   ],
   "source": [
    "# ?Hablaran de sancho en el texto?\n",
    "nuevo_string.find(\"Sancho\")"
   ]
  },
  {
   "cell_type": "markdown",
   "metadata": {},
   "source": [
    "Obtendremos un valor de `-1`.\n",
    "\n",
    "Volvamos con nuestra oracion inicial ?se dieron cuenta que tenía un `1` entre los signos de exclamación? pues existe una forma de corregir esto. la funcion .replace(\"a reemplazar\", \"simbolo nuevo\") tiene como parametro el caracter que queremos reemplazar en un String y el valor por el cual lo vamos a reemplazar. corrijamos nuestro error."
   ]
  },
  {
   "cell_type": "code",
   "execution_count": 59,
   "metadata": {},
   "outputs": [
    {
     "data": {
      "text/plain": [
       "'¡¡¡Hablemos de funciones !1!'"
      ]
     },
     "execution_count": 59,
     "metadata": {},
     "output_type": "execute_result"
    }
   ],
   "source": [
    "mi_string.replace(\"1\",\"!\")\n",
    "mi_string.replace(\"2\",\"¡\")"
   ]
  },
  {
   "cell_type": "markdown",
   "metadata": {},
   "source": [
    "**Nota: Se reemplazarán todos los valores puestos en el primer parametro por los dados en el segundo**"
   ]
  },
  {
   "cell_type": "code",
   "execution_count": 36,
   "metadata": {},
   "outputs": [
    {
     "data": {
      "text/plain": [
       "'holaholaholaholaholaholaholaholahola'"
      ]
     },
     "execution_count": 36,
     "metadata": {},
     "output_type": "execute_result"
    }
   ],
   "source": [
    "ejemplo= (\"111111111\")\n",
    "ejemplo.replace(\"1\",\"hola\")"
   ]
  },
  {
   "cell_type": "markdown",
   "metadata": {},
   "source": [
    "En la tabla a continuación se mostrarán las funciones que aprendimos en esta seccion y la descripcion de las mismas\n",
    "\n",
    "|Función|Descripción|\n",
    "|-------|-----------|\n",
    "|.Upper()| Modifica temporalmente la cadena para que sus caracteres esten en mayuscula.|\n",
    "|.Lower()| Similar a la función .Upper(), hace que sus caracteres estén en minuscula.|\n",
    "|.Count(\"x\")| Cuenta el numero de \"x\" que hayan en la cadena.|\n",
    "|.Find(\"x\")| Da la posición de \"x\" en la cadena, retorna \"-1\" si no se encuentra.|\n",
    "|.Replace(\"x\",\"y\")| Cambia todos los valores \"x\" en la cadena por valores \"y\"|\n",
    "\n",
    "### Operando con Listas\n",
    "\n",
    "En cuanto a las listas, existen funciones las cuales permiten operar sobre ellas de forma rapida y sencilla. En este apartado vamos a ver algunas funciones muy utiles que son aplicables sobre estas. \n",
    "\n",
    "En caso de tener una lista con valores numericos, existe la posibilidad de saber su longitud, sumar los valores de la lista, valor maximo y minimo, sin necesidad de emplear procedimientos muy complicados. para esto podemos emplear las siguientes funciones:\n",
    "\n",
    "   * Len(lista)\n",
    "   * Max(lista)\n",
    "   * Min(lista)\n",
    "   * sum(lista)\n",
    "\n"
   ]
  },
  {
   "cell_type": "code",
   "execution_count": 43,
   "metadata": {},
   "outputs": [
    {
     "name": "stdout",
     "output_type": "stream",
     "text": [
      "Minimo: 1\n",
      "Maximo: 10\n",
      "longitud: 10\n",
      "la suma de los valores de la lista es: 55\n"
     ]
    }
   ],
   "source": [
    "lista_numerica = [1,2,3,4,5,6,7,8,9,10]\n",
    "#La forma de emplear las funciones Max, Min, Len y Sum, es la siguiente\n",
    "print(\"Minimo:\", min(lista_numerica))\n",
    "print(\"Maximo:\", max(lista_numerica))\n",
    "print(\"longitud:\",len(lista_numerica))\n",
    "print(\"la suma de los valores de la lista es:\", sum(lista_numerica))\n"
   ]
  },
  {
   "cell_type": "markdown",
   "metadata": {},
   "source": [
    "La forma de emplear las funciones anteriores, como pudimos observar, es un poco diferente a las que vimos con anterioridad. En este caso, se escribe primero el nombre de la función y entre parentesis el nombre de la lista a operar.\n",
    "\n",
    "Así como en los Strings podemos contar la repeticion de un caracter a lo largo del mismo, en las listas podemos contar la repeticion de un elemento de la lista (ya sea numero o una palabra). Lo hacemos con la función .count(\"a\")\n",
    "\n"
   ]
  },
  {
   "cell_type": "code",
   "execution_count": 44,
   "metadata": {},
   "outputs": [
    {
     "data": {
      "text/plain": [
       "2"
      ]
     },
     "execution_count": 44,
     "metadata": {},
     "output_type": "execute_result"
    }
   ],
   "source": [
    "lista_frutas = [\"mandarina\", \"manzana\", \"uvas\", \"banano\", \"fresas\", \"mandarina\", \"banano\"]\n",
    "lista_frutas.count(\"mandarina\")"
   ]
  },
  {
   "cell_type": "markdown",
   "metadata": {},
   "source": [
    "Si queremos agregar otro elemento a la lista, tenemos dos operadores disponibles, si es importante la posicion en la cual agregamos un nuevo elemento utilizaremos la funcion .Intert(posicion, elemento) pero si esto no es importante podriamos utilizar la fucion .Append(elemento a agregar).\n",
    "   * .Inster(pos, elemento).\n",
    "   * .Append(elemento). Este lo agrega en el ultimo lugar por defecto."
   ]
  },
  {
   "cell_type": "code",
   "execution_count": 45,
   "metadata": {},
   "outputs": [
    {
     "data": {
      "text/plain": [
       "['mandarina',\n",
       " 'manzana',\n",
       " 'uvas',\n",
       " 'banano',\n",
       " 'fresas',\n",
       " 'mandarina',\n",
       " 'banano',\n",
       " 'coco']"
      ]
     },
     "execution_count": 45,
     "metadata": {},
     "output_type": "execute_result"
    }
   ],
   "source": [
    "lista_frutas.append(\"coco\")\n",
    "lista_frutasb"
   ]
  },
  {
   "cell_type": "code",
   "execution_count": 51,
   "metadata": {},
   "outputs": [
    {
     "data": {
      "text/plain": [
       "['aguacate', 'uvas', 'banano', 'fresas', 'mandarina', 'banano', 'coco']"
      ]
     },
     "execution_count": 51,
     "metadata": {},
     "output_type": "execute_result"
    }
   ],
   "source": [
    "#Insertaremos el aguacate en la posicion 0\n",
    "lista_frutas.insert(0,\"aguacate\")\n",
    "lista_frutas"
   ]
  },
  {
   "cell_type": "markdown",
   "metadata": {},
   "source": [
    "Si queremos remover uno, existen dos funciones diferentes. podemos utilizar la funcion .Remove(elemento a remover), si deseamos remover un elemento en particular o la funcion .pop(posicion del elemento a borrar), para borrar el elemento de una posicion en particular.\n",
    "   * .Pop(posicion). Es importante recordar que la posicion 1 en Python es la posicion 0\n",
    "   * .Remove(elemento a remover)"
   ]
  },
  {
   "cell_type": "code",
   "execution_count": 46,
   "metadata": {},
   "outputs": [
    {
     "data": {
      "text/plain": [
       "['manzana', 'uvas', 'banano', 'fresas', 'mandarina', 'banano', 'coco']"
      ]
     },
     "execution_count": 46,
     "metadata": {},
     "output_type": "execute_result"
    }
   ],
   "source": [
    "lista_frutas.remove(\"mandarina\")\n",
    "lista_frutas"
   ]
  },
  {
   "cell_type": "code",
   "execution_count": 49,
   "metadata": {},
   "outputs": [
    {
     "data": {
      "text/plain": [
       "['uvas', 'banano', 'fresas', 'mandarina', 'banano', 'coco']"
      ]
     },
     "execution_count": 49,
     "metadata": {},
     "output_type": "execute_result"
    }
   ],
   "source": [
    "lista_frutas.pop(0)\n",
    "lista_frutas"
   ]
  },
  {
   "cell_type": "markdown",
   "metadata": {},
   "source": [
    "Como podemos observar, solo remueve el primer elemento que coincida con el parametro para remover.\n",
    "\n",
    "Volviendo al ejemplo numerico, podemos ordenar la lista en el sentido contrario al que se encuentra y ordenarla de menor a mayor, para esto utilizamos las siguiente funciones:\n",
    "   * .Reverse()\n",
    "   * .Sort()"
   ]
  },
  {
   "cell_type": "code",
   "execution_count": 47,
   "metadata": {},
   "outputs": [
    {
     "data": {
      "text/plain": [
       "[10, 9, 8, 7, 6, 5, 4, 3, 2, 1]"
      ]
     },
     "execution_count": 47,
     "metadata": {},
     "output_type": "execute_result"
    }
   ],
   "source": [
    "lista_numerica.reverse()\n",
    "lista_numerica"
   ]
  },
  {
   "cell_type": "code",
   "execution_count": 48,
   "metadata": {},
   "outputs": [
    {
     "data": {
      "text/plain": [
       "[1, 2, 3, 4, 5, 6, 7, 8, 9, 10]"
      ]
     },
     "execution_count": 48,
     "metadata": {},
     "output_type": "execute_result"
    }
   ],
   "source": [
    "lista_numerica.sort()\n",
    "lista_numerica"
   ]
  },
  {
   "cell_type": "markdown",
   "metadata": {},
   "source": [
    "**Resumen de las funciones, quiza con alguna otra mas, y su descripcion.**\n",
    "\n",
    "\n",
    "|Función|Descripción|\n",
    "|-------|-----------|\n",
    "|.sorted() o sort()|Esta funcion sirve para ordenar una lista (numerica) ascendentemente|\n",
    "|.append()| Agrega un elemento al final de la lista|\n",
    "|.insert(pos , a) | inserta un valor \"a\" en la posicion \"pos\"|\n",
    "|.extend(otra_lista)| Concatena la lista actual con otra_lista|\n",
    "|.remove(a)| Remueve de la lista un valor que sea igual a \"a\" (el primero que encuentre por si hay mas de uno)|\n",
    "|.pop(pos)| Remueve el elemento de la posicion \"pos\" de la lista|\n",
    "|.index(a)| Devuelve el indice o posición de el primer elemento igual a \"a\" en la lista|\n",
    "|.count(a)| Cuenta el numero de veces que \"a\" está en la lista|\n",
    "|.reverse()|Invierte los elementos de la lista|\n",
    "|.copy()| Devuelve una copia de la lista|\n",
    "|len()| Nos dice la longitud de la lista (o tupla)|\n",
    "|max()| Devuelve el maximo valor|\n",
    "|min()| Devuelve el menor valor|\n",
    "|sum()| Suma todos los valores de la lista|"
   ]
  }
 ],
 "metadata": {
  "kernelspec": {
   "display_name": "Python 3",
   "language": "python",
   "name": "python3"
  },
  "language_info": {
   "codemirror_mode": {
    "name": "ipython",
    "version": 3
   },
   "file_extension": ".py",
   "mimetype": "text/x-python",
   "name": "python",
   "nbconvert_exporter": "python",
   "pygments_lexer": "ipython3",
   "version": "3.7.1"
  }
 },
 "nbformat": 4,
 "nbformat_minor": 2
}
