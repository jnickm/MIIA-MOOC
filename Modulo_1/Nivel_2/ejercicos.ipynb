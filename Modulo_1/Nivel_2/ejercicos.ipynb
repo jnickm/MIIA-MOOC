{
 "cells": [
  {
   "cell_type": "markdown",
   "metadata": {},
   "source": [
    "# Python como una calculadora: Ejercicios\n",
    "#### Modulo 1, Nivel 2.\n",
    "\n",
    "En este notebook están los ejercicios para los temas del Modulo 1 - Nivel 2. Debajo de cada ejercicio hay una celda en donde se debe ingresar el código correspondiente para solucionar la operación solicitada. \n",
    "\n",
    "Nota: Recuerda que para ejecutar una celda debe usar las teclas Control + Enter "
   ]
  },
  {
   "cell_type": "markdown",
   "metadata": {},
   "source": [
    "## 1. Division entera\n",
    "\n",
    "A continuación encontrará los ejercicios de division entera: "
   ]
  },
  {
   "cell_type": "markdown",
   "metadata": {},
   "source": [
    "##### Ejercicio 1.1\n",
    "\n",
    "Realice la division entera entre 5 y 4\n",
    "\n",
    "#### Rta// 1"
   ]
  },
  {
   "cell_type": "code",
   "execution_count": null,
   "metadata": {},
   "outputs": [],
   "source": [
    "# Procedimiento ejercicio 1.1\n",
    "\n"
   ]
  },
  {
   "cell_type": "markdown",
   "metadata": {},
   "source": [
    "##### Ejercicio 1.2\n",
    "\n",
    "Realice la division entera entre 108 y 50\n",
    "\n",
    "#### Rta// 2"
   ]
  },
  {
   "cell_type": "code",
   "execution_count": 8,
   "metadata": {},
   "outputs": [],
   "source": [
    "# Procedimiento ejercicio 1.2\n",
    "\n"
   ]
  },
  {
   "cell_type": "markdown",
   "metadata": {},
   "source": [
    "##### Ejercicio 1.3\n",
    "\n",
    "Realice la division entera entre 560 y 4\n",
    "\n",
    "#### Rta// 140"
   ]
  },
  {
   "cell_type": "code",
   "execution_count": null,
   "metadata": {},
   "outputs": [],
   "source": [
    "# Procedimiento ejercicio 1.3\n",
    "\n"
   ]
  },
  {
   "cell_type": "markdown",
   "metadata": {},
   "source": [
    "##### Ejercicio 1.4\n",
    "\n",
    "Realice la division entera entre (1560 * 10) y 70\n",
    "\n",
    "#### Rta// 222"
   ]
  },
  {
   "cell_type": "code",
   "execution_count": 15,
   "metadata": {},
   "outputs": [],
   "source": [
    "# Procedimiento ejercicio 1.4\n",
    "\n"
   ]
  },
  {
   "cell_type": "markdown",
   "metadata": {},
   "source": [
    "## 2. Potencias\n",
    "\n",
    "A continuación encontrará los ejercicios de potencias: \n"
   ]
  },
  {
   "cell_type": "markdown",
   "metadata": {},
   "source": [
    "##### Ejercicio 2.1\n",
    "\n",
    "Realice la potencia entre 5 y 5\n",
    "\n",
    "#### Rta// 3125"
   ]
  },
  {
   "cell_type": "code",
   "execution_count": null,
   "metadata": {},
   "outputs": [],
   "source": [
    "# Procedimiento ejercicio 2.1\n",
    "\n"
   ]
  },
  {
   "cell_type": "markdown",
   "metadata": {},
   "source": [
    "##### Ejercicio 2.2\n",
    "\n",
    "Realice la potencia entre 10 y 5\n",
    "\n",
    "#### Rta// 100000"
   ]
  },
  {
   "cell_type": "code",
   "execution_count": null,
   "metadata": {},
   "outputs": [],
   "source": [
    "# Procedimiento ejercicio 2.2\n",
    "\n"
   ]
  },
  {
   "cell_type": "markdown",
   "metadata": {},
   "source": [
    "##### Ejercicio 2.3\n",
    "\n",
    "Realice la potencia entre 20 y 10\n",
    "\n",
    "#### Rta// 10240000000000"
   ]
  },
  {
   "cell_type": "code",
   "execution_count": null,
   "metadata": {},
   "outputs": [],
   "source": [
    "# Procedimiento ejercicio 2.3\n",
    "\n"
   ]
  },
  {
   "cell_type": "markdown",
   "metadata": {},
   "source": [
    "##### Ejercicio 2.4\n",
    "\n",
    "Realice la potencia entre (100 // 50) y 5\n",
    "\n",
    "#### Rta// 32"
   ]
  },
  {
   "cell_type": "code",
   "execution_count": null,
   "metadata": {},
   "outputs": [],
   "source": [
    "# Procedimiento ejercicio 2.4\n",
    "\n"
   ]
  },
  {
   "cell_type": "markdown",
   "metadata": {},
   "source": [
    "## 3. Tipos de datos y variables\n",
    "\n",
    "A continuación encontrará los ejercicios de tipos de datos y variables:"
   ]
  },
  {
   "cell_type": "markdown",
   "metadata": {},
   "source": [
    "##### Ejercicio 3.1\n",
    "\n",
    "+ Declare las variables saldo_pedro y saldo_juan que guarden atributos de tipo Int con valor 100 y 150 respectivamente. \n",
    "+ Declare las variables nombre1 y nombre2 que guarden atributos de tipo String con valor de \"Pedro\" y \"Juan\" respectivamente.\n",
    "+ Realice la potencia del saldo_pedro y el de saldo_juan con 2: \n",
    "+ Realice la division entera de saldo_pedro y saldo_juan con 3. \n",
    "+ Imprima el nombre, el saldo de Juan y Pedro y el tipo de cada variable.\n",
    "\n",
    "\n",
    "\n",
    "#### Rta//\n",
    "Nombre1: Pedro Tipo: <class 'str'> Saldo: 3333 Tipo: <class 'int'>\n",
    "Nombre2: Juan Tipo: <class 'str'> Saldo: 7500 Tipo: <class 'int'>"
   ]
  },
  {
   "cell_type": "code",
   "execution_count": 36,
   "metadata": {},
   "outputs": [],
   "source": [
    "# Procedimiento ejercicio 3.1\n",
    "\n"
   ]
  },
  {
   "cell_type": "markdown",
   "metadata": {},
   "source": [
    "##### Ejercicio 3.2\n",
    "\n",
    "Juan quiere hacer la compra de un computador por internet. Se contactó con servicio al cliente para saber si el precio que está en la pagina incluye el IVA. Al comunicarse con la bodega esta fue la información que le dieron del articulo: \n",
    "\n",
    "+ Nombre: MacBook Air\n",
    "+ Marca: Apple\n",
    "+ Procesador: Intel core i5\n",
    "+ Precio sin IVA: 2380.9\n",
    "+ Garantia en años: 2\n",
    "\n",
    "Debe responderle a Juan indicando las caracteristicas del equipo y el valor total al pagar por el equipo teniendo en cuenta que el IVA es el 19% y que el domicilio tiene un costo de 50. \n",
    "    \n",
    "Cree una variable para modelar cada caracteristica del equipo. De igual forma, realice las operaciones correspondientes para indicarle a Juan el precio del equipo con IVA y con domicilio. \n",
    "\n",
    "Nota: Para hacer un salto de linea ingrese '\\n'\n",
    "\n",
    "#### Rta//\n",
    "\n",
    "Buenas tarde Juan, estas son las indicaciones del equipo: \n",
    " \n",
    " Nombre: MacBook Air \n",
    " Marca: Apple \n",
    " Procesador:  Intel core i5 \n",
    " Precio sin IVA:  2380.9 \n",
    " Garantia en años:  2 \n",
    " \n",
    " El precio final a pagar es de:  2883.271  \n",
    " \n",
    " Saludos"
   ]
  },
  {
   "cell_type": "code",
   "execution_count": null,
   "metadata": {},
   "outputs": [],
   "source": [
    "# Procedimiento ejercicio 3.2\n",
    "\n"
   ]
  },
  {
   "cell_type": "markdown",
   "metadata": {},
   "source": [
    "## 4. Tuplas\n",
    "\n",
    "A continuación encontrará los ejercicios de tuplas:\n"
   ]
  },
  {
   "cell_type": "markdown",
   "metadata": {},
   "source": [
    "##### Ejercicio 4.1\n",
    "\n",
    "* Cree una tupla con los siguientes valores: 2,3,4,5,6,7\n",
    "\n",
    "* Imprima los siguientes requerimientos: (Recuerde usar '\\n' para saltar linea)\n",
    "\n",
    "    + El valor en la primera posición.\n",
    "    + El valor en la ultima posición.\n",
    "    + Los valores desde la posición 0 hasta la 3.\n",
    "    + Los valores desde la posición 3 hasta la 6.\n",
    "    + Todos los valores de la tupla. \n",
    "    \n",
    "    \n",
    "#### Rta//\n",
    "\n",
    "+ 2\n",
    "+ 7\n",
    "+ (2, 3, 4)\n",
    "+ (5, 6, 7)\n",
    "+ (2, 3, 4, 5, 6, 7)\n",
    "    \n"
   ]
  },
  {
   "cell_type": "code",
   "execution_count": null,
   "metadata": {},
   "outputs": [],
   "source": [
    "# Procedimiento ejercicio 4.1\n",
    "\n"
   ]
  },
  {
   "cell_type": "markdown",
   "metadata": {},
   "source": [
    "## 5. Listas\n",
    "\n",
    "A continuación encontrará los ejercicios de listas:\n",
    "    \n"
   ]
  },
  {
   "cell_type": "markdown",
   "metadata": {},
   "source": [
    "##### Ejercicio 5.1\n",
    "\n",
    "* Cree una lista con los meses del año. \n",
    "\n",
    "* Imprima los siguientes requerimientos:\n",
    "\n",
    "    + El primer y ultimo mes del año.\n",
    "    + Los meses que componen el segundo trimestre del año. \n",
    "    + El mes de su cumpleaños. \n",
    "    + Todos los meses del año. \n",
    "    \n",
    "    \n",
    "#### Rta//\n",
    "\n",
    "+ El primer mes es: Enero y el ultimo mes es: Diciembre\n",
    "+ Los meses del segundo trimestre del año son: ['Abril', 'Mayo', 'Junio']\n",
    "+ Mi cumpleaños es en:  Octubre\n",
    "+ Los meses del año son:  ['Enero', 'Febrero', 'Marzo', 'Abril', 'Mayo', 'Junio', 'Julio', 'Agosto', 'Septiembre', 'Octubre', 'Noviembre', 'Diciembre']\n",
    "\n"
   ]
  },
  {
   "cell_type": "code",
   "execution_count": null,
   "metadata": {},
   "outputs": [],
   "source": [
    "# Procedimiento ejercicio 5.1\n",
    "\n"
   ]
  },
  {
   "cell_type": "markdown",
   "metadata": {},
   "source": [
    "##### Ejercicio 5.2\n",
    "\n",
    "* Cree una lista llamada fecha con los valores: dia, mes, año\n",
    "\n",
    "* Modifique cada valor de la lista ingresando los siguientes valores: \n",
    "\n",
    "    + Año: 1912\n",
    "    + Mes: Junio\n",
    "    + Dia: 23\n",
    "    \n",
    "* Imprima la lista para verificar las modificaciones y el nombre de la persona que nacío en esta fecha.\n",
    "\n",
    "#### Rta//\n",
    "\n",
    "Alan Turing nacío el:  ['23', 'Junio', '1912']\n",
    "\n",
    "\n"
   ]
  },
  {
   "cell_type": "code",
   "execution_count": null,
   "metadata": {},
   "outputs": [],
   "source": [
    "# Procedimiento ejercicio 5.2\n",
    "\n"
   ]
  },
  {
   "cell_type": "markdown",
   "metadata": {},
   "source": [
    "##### Ejercicio 5.3\n",
    "\n",
    "En una empresa se guardan las ventas anuales en una lista. El director de cartera le pide que le envíe la información de ventas del año pasado, sin embargo al revisar los datos éstas están separadas por semestre. Estos son los datos:\n",
    "\n",
    "+ sem1_2018 = [ 150, 520, 480, 190, 230, 340]\n",
    "+ sem2_2018 = [ 210, 180, 340, 290, 80, 310] \n",
    "\n",
    "A partir de esta información haga lo siguiente:\n",
    "\n",
    "    * Cree una nueva lista y concatene los datos de sem1_2018 y sem2_2018.\n",
    "    * Indique el valor del mes con menores ventas. \n",
    "    * Indique el valor del mes con mayores ventas. \n",
    "    * Verifique que la lista anual tenga todos los datos hallando el tamaño de la lista. \n",
    "    \n",
    "#### Rta//\n",
    "\n",
    "+ Las ventas de cada mes del 2018 fueron:  [150, 520, 480, 190, 230, 340, 210, 180, 340, 290, 80, 310]\n",
    "+ El mes con peores ventas fue: 80\n",
    "+ El mes con mejores ventas fue: 520\n",
    "+ 12\n",
    "\n"
   ]
  },
  {
   "cell_type": "code",
   "execution_count": null,
   "metadata": {},
   "outputs": [],
   "source": [
    "# Procedimiento ejercicio 5.3\n",
    "\n"
   ]
  },
  {
   "cell_type": "markdown",
   "metadata": {},
   "source": [
    "##### Ejercicio 5.4\n",
    "\n",
    "Las calificaciones finales obtenidas en el curso de cálculo fueran las siguientes:\n",
    "\n",
    "cal = [ 3.4 , 2.1 , 1.2 , 4.8 , 2.6 , 2.8 , 2.5 , 2.1 , 3.4 , 1.5 , 4.2 , 3.6 , 2.6 , 2.3 , 3.4 , 4.8 , 3.4 ]\n",
    "\n",
    "A partir de esta lista se quiere obtener la siguiente información: \n",
    "\n",
    "+ La mayor nota del curso.\n",
    "+ La menor nota.\n",
    "+ Cantidad de estudiantes del curso. \n",
    "\n",
    "Por otro lado, se quiere aplicar los siguientes cambios a la lista: \n",
    "\n",
    "+ Organizar la lista de la peor a la mejor calificación.\n",
    "+ Insertar el 5.0 obtenido por Juan en el supletorio.\n",
    "+ Revisar cuantos estudiantes tuvieron como definitiva 3.4. \n",
    "\n",
    "#### Rta//\n",
    "\n",
    "La lista de notas descargadas del sistema es:  \n",
    "\n",
    "[3.4, 2.1, 1.2, 4.8, 2.6, 2.8, 2.5, 2.1, 3.4, 1.5, 4.2, 3.6, 2.6, 2.3, 3.4, 4.8, 3.4] \n",
    "\n",
    "+ La mayor nota del curso fue:  4.8\n",
    "+ La menor nota del curso fue:  1.2\n",
    "+ La cantidad de estudiantes en el curso es:  17 \n",
    "\n",
    "La lista de notas ordenadas es:  \n",
    "\n",
    "[1.2, 1.5, 2.1, 2.1, 2.3, 2.5, 2.6, 2.6, 2.8, 3.4, 3.4, 3.4, 3.4, 3.6, 4.2, 4.8, 4.8] \n",
    "\n",
    "La lista de notas con el supletorio de Juan es:  \n",
    "\n",
    "[1.2, 1.5, 2.1, 2.1, 2.3, 2.5, 2.6, 2.6, 2.8, 3.4, 3.4, 3.4, 3.4, 3.6, 4.2, 4.8, 4.8, 5.0]\n",
    "\n",
    " La cantidad de estudiantes que obtuvieron por definitiva 3.4 son:  4\n",
    "\n",
    "\n",
    "\n"
   ]
  },
  {
   "cell_type": "code",
   "execution_count": null,
   "metadata": {},
   "outputs": [],
   "source": [
    "# Procedimiento ejercicio 5.4\n",
    "\n"
   ]
  },
  {
   "cell_type": "markdown",
   "metadata": {},
   "source": [
    "##### Ejercicio 5.5\n",
    "\n",
    "A continuación se puede ver la lista de nombres más comunes en America Latina:\n",
    "\n",
    "nombres = [ Camilo, Juan, Pedro, Esteban, Laura, Daniela, Ana, Maria, Daniel, Sebastian, Andrea ]\n",
    "\n",
    "Teniendo en cuenta la lista anterior: \n",
    "\n",
    "* Imprima la lista original.\n",
    "* Elimine a Pedro de la lista.\n",
    "* Elimine el ultimo elemento de la lista.\n",
    "* Imprima la posicion de Camilo en la lista.\n",
    "* Invierta el orden de la lista. \n",
    "* Copie los valores de la lista nombres y peguelos en una lista nueva e imprima dicha lista. \n",
    "\n",
    "#### Rta//\n",
    "\n",
    "La lista original es:  \n",
    " * ['Camilo', 'Juan', 'Pedro', 'Esteban', 'Laura', 'Daniela', 'Ana', 'Maria', 'Daniel', 'Sebastian', 'Andrea'] \n",
    "\n",
    "Se elimina el nombre de Pedro de la lista \n",
    " * ['Camilo', 'Juan', 'Esteban', 'Laura', 'Daniela', 'Ana', 'Maria', 'Daniel', 'Sebastian', 'Andrea'] \n",
    "\n",
    "Se elimina el ultimo elemento de la lista \n",
    " * ['Camilo', 'Juan', 'Esteban', 'Laura', 'Daniela', 'Ana', 'Maria', 'Daniel', 'Sebastian'] \n",
    "\n",
    "Se busca cual es la posicion de Camilo en la lista \n",
    " * 0 \n",
    "\n",
    "Se invierte el orden de los valores de la lista \n",
    " * ['Sebastian', 'Daniel', 'Maria', 'Ana', 'Daniela', 'Laura', 'Esteban', 'Juan', 'Camilo'] \n",
    "\n",
    "Se copian los valores de la lista en otra diferente \n",
    " * ['Sebastian', 'Daniel', 'Maria', 'Ana', 'Daniela', 'Laura', 'Esteban', 'Juan', 'Camilo']\n"
   ]
  },
  {
   "cell_type": "code",
   "execution_count": null,
   "metadata": {},
   "outputs": [],
   "source": [
    "# Procedimiento ejercicio 5.5\n"
   ]
  }
 ],
 "metadata": {
  "kernelspec": {
   "display_name": "Python 3",
   "language": "python",
   "name": "python3"
  },
  "language_info": {
   "codemirror_mode": {
    "name": "ipython",
    "version": 3
   },
   "file_extension": ".py",
   "mimetype": "text/x-python",
   "name": "python",
   "nbconvert_exporter": "python",
   "pygments_lexer": "ipython3",
   "version": "3.7.1"
  }
 },
 "nbformat": 4,
 "nbformat_minor": 2
}
