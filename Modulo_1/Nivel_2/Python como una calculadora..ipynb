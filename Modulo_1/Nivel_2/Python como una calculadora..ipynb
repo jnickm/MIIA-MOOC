{
 "cells": [
  {
   "cell_type": "markdown",
   "metadata": {},
   "source": [
    "# Python como una calculadora _Pensemos un mejor titulo_\n",
    "#### Modulo 1, Nivel 2.\n",
    "\n",
    "\n",
    "## Operaciones basicas.\n",
    "\n",
    "| Operación | Resultado       |\n",
    "| --------- | --------------- |\n",
    "|    +      | Suma            |\n",
    "|    -      | Resta           |\n",
    "|    *      | Multiplicación  |\n",
    "|    /      | División        |\n",
    "\n",
    "\n",
    "### Ejemplo.\n"
   ]
  },
  {
   "cell_type": "code",
   "execution_count": null,
   "metadata": {},
   "outputs": [],
   "source": [
    "5+3- 5*3/2"
   ]
  },
  {
   "cell_type": "markdown",
   "metadata": {},
   "source": [
    "## Divisiones enteras y potencias.\n",
    "\n",
    "Python nos permite hacer divisiones enteras (no nos arrojan numero decimal) y elevar numeros a una potencia determinada. Los operadores que debemos utilizar son los siguientes.\n",
    "\n",
    "| Operación | Resultado       |\n",
    "| --------- | --------------- |\n",
    "|    //     | División entera |\n",
    "|    \\*\\*   | Potencia        |\n",
    "\n",
    "### Ejemplos"
   ]
  },
  {
   "cell_type": "code",
   "execution_count": null,
   "metadata": {},
   "outputs": [],
   "source": [
    "5**2/5.1231"
   ]
  },
  {
   "cell_type": "code",
   "execution_count": null,
   "metadata": {},
   "outputs": [],
   "source": [
    "5**2//2"
   ]
  },
  {
   "cell_type": "markdown",
   "metadata": {},
   "source": [
    "## ¿Cómo guardar un resultado para utilizarlo mas tarde?\n",
    "\n",
    "### Tipos de datos.\n",
    "\n",
    "Antes de responder a esta pregunta debemos aclarar que tipos de datos tenemos en Python o en que forma podemos clasificar nuestros valores. Hasta el momento hemos manejado tres tipos diferentes de valores ¿cuando? vamos a esclarecerlo. \n",
    "\n",
    "   1. Los numeros enteros, como por ejemplo `5` es un **entero** o `Int`.\n",
    "   2. Los numeros decimales como es `5.2` pertenecen al tipo `Float`.\n",
    "   3. Las palabras y oraciones tambien son un tipo de valor en lenguaje de programacion, por ejemplo `Espero esten \n",
    "   entendiendo todo` es un valor tipo `String` o `Str`.\n",
    "\n"
   ]
  },
  {
   "cell_type": "code",
   "execution_count": null,
   "metadata": {},
   "outputs": [],
   "source": [
    "# 1.\n",
    "\n",
    "ejemplo_1 = 5\n",
    "ejemplo_2 = 5.2\n",
    "ejemplo_3 =\"hola\"\n",
    "\n",
    "#para saber a que clase pertenece cada una de estas variables utilizamos una función llamada type\n",
    "\n",
    "print(\"el ejemplo 1 es tipo: \",type(ejemplo_1),\"el ejemplo 2 es tipo: \",type(ejemplo_2),\"el ejemplo 3 es tipo: \",type(ejemplo_3))\n",
    "\n"
   ]
  },
  {
   "cell_type": "markdown",
   "metadata": {},
   "source": [
    "Un String tambien puede ser un numero, por tanto `5` es diferene a `\"5\"`.\n",
    "\n",
    "Comprobación:"
   ]
  },
  {
   "cell_type": "code",
   "execution_count": null,
   "metadata": {},
   "outputs": [],
   "source": [
    "ejemplo_4str = \"5\"\n",
    "ejemplo_4int = 5\n",
    "\n",
    "#Preguntamos si son iguales\n",
    "ejemplo_4str == ejemplo_4int"
   ]
  },
  {
   "cell_type": "markdown",
   "metadata": {},
   "source": [
    "### Variables\n",
    "\n",
    "Ahora si vamos a responder la pregunta, en el mundo de programacion existen variables, las cuales tienen un significado parecido a la variable matematica pero tienen otro fin u otra funcionalidad. En programacion una variable es como una caja o un espacio vacio, en el cual podemos guardar un valor de cualquier tipo o clase. Generalmente estas deben ser escritas de manera que uno pueda recordar facilmente a que hace referencia el valor que se esta guardando.\n",
    "\n",
    "**Tenga en cuenta que Python diferencia mayusculas, por tanto si defino una variable como `Nombre` y despues la intento llamar escribiendo `nombre`, el programa nos dará error.**\n",
    "\n",
    "Un ejemplo sencillo de esto: Supongamos que deseamos almacenar el valor de una resta sencilla, si mi mamá me envio a la tienda a comprar una libra de arroz y esta tiene un precio de 5$, ella me da 10 pero yo me quiero quedar con el 20% de las vueltas, ?cuanto le debo dar a mi mama?"
   ]
  },
  {
   "cell_type": "code",
   "execution_count": null,
   "metadata": {},
   "outputs": [],
   "source": [
    "Cambio= 10-5\n",
    "Dinero_para_mi_mama = Cambio * 0.8\n",
    "\n",
    "print(\"Debo darle a mi mama\",Dinero_para_mi_mama, \"$\")"
   ]
  },
  {
   "cell_type": "markdown",
   "metadata": {},
   "source": [
    "Como vimos en este sencillo ejemplo hemos almacenado el valor de cambio para luego utilizarlo para saber \"Dinero_para_mama\".\n",
    "\n",
    "De igual forma en Python se nos permite asignarle un valor a varias variables en una misma linea de codigo, por ejemplo:\n"
   ]
  },
  {
   "cell_type": "code",
   "execution_count": null,
   "metadata": {},
   "outputs": [],
   "source": [
    "x, y = 5, 3\n",
    "x, y"
   ]
  },
  {
   "cell_type": "markdown",
   "metadata": {},
   "source": [
    "Otra forma de almacenar o llamar valores que hemos calculado con anterioridad es con `_`. Utilizar esta convencion en una lista de codigo nos representará o traera consigo el valor de la ultima casilla ejecutada (IN/OUT). Pero, si no deseamos traer el ultimo valor sino uno que hemos generado con anterioridad añadimos el numero de la celda despues de utilizar el guion bajo. Por ejemplo si deseamos llamar el resultado de la celda uno debemos escribir `_1`. Este metodo de guardar valores no es muy recomendado pero puede llegar a ser util en ciertos casos especificos.\n",
    "\n",
    "Ejemplo:\n"
   ]
  },
  {
   "cell_type": "code",
   "execution_count": null,
   "metadata": {},
   "outputs": [],
   "source": [
    "_1+1"
   ]
  },
  {
   "cell_type": "markdown",
   "metadata": {},
   "source": [
    "### Tuplas y Listas\n",
    "\n",
    "Así como se pueden guardar numeros y oraciones en variables, podemos guardar Tuplas y Listas pero ¿Qué son estas? Son dos de tres formas de agrupar datos (la tercera es diccionarios pero no desesperen, la explicaremos mas adelante.\n",
    "\n",
    "#### Tuplas\n",
    "\n",
    "En algunas ocaciones se requerira describir un objeto como una agrupacion de datos, como puede ser la posición de un punto en un espacio de dos dimensiones (x, y) o la fecha de nacimiento de una persona (\"Nicolas\", 09, 01, 1996). Para estos casos recurrimos a las Tuplas, las cuales estan definidas como un conjunto ordenado e inmutable del mismo o diferentes tipos. Dada esta definición sabemos que una a una Tupla no se le puede agregar ni quitar elementos (inmutable). \n",
    "\n",
    "###### Generalidades de tuplas\n",
    "\n",
    "   * Estas se pueden declarar como en el parrafo anterior, separando cada valor por comas y agrupandolos en parentesis `( )`.\n",
    "   * El primer valor que se encuentra en la tupla ocupa el espacio `0` de la misma y el ultimo es el `n-1`. Como no en todos los casos sabremos la longitud de la tupla podemos escribirlo como `[-1]`\n",
    "   * Las tuplas pueden recibir solo un elemento pero para que sea reconocida como tal debe tener una coma. ejemplo : `tupla = (5, )`.\n",
    "   * Se puede llamar un valor especifico de una Tupla escribiendo despues del nombre de esta el numero del elemento que se quiere llamar, por ejemplo si quiero llamar el elemento en el primer espacio seriea `mi_tupla[0]`."
   ]
  },
  {
   "cell_type": "code",
   "execution_count": null,
   "metadata": {},
   "outputs": [],
   "source": [
    "#ejemplo declaracion de Tuplas\n",
    "\n",
    "mi_tupla = (\"Nicolas\", 9, 1,1996)\n",
    "print(\"esta es la tupla\", mi_tupla)\n",
    "#llamar un elemento de la tupla\n",
    "\n",
    "print(\"valor del elemento 3: \", mi_tupla[2])\n",
    "\n",
    "print(\"ultimo elemento de la tupla: \" ,mi_tupla[-1])\n",
    "\n",
    "#No se puede cambiar el valor de un espacio de la tupla, va a salir error.\n",
    "\n",
    "try:                                   # Esta instrucción dice: intenté\n",
    "    mi_tupla[2] = 3                    # Esto\n",
    "except:                                # pero si no se puede\n",
    "    print(\"no es posible cambiar\")    # imprimir lo siguiente."
   ]
  },
  {
   "cell_type": "markdown",
   "metadata": {},
   "source": [
    "#### Listas\n",
    "\n",
    "Las listas son arreglos de datos que pueden contener en ellas numeros, palabras, tuplas e incluso otras listas. Así como las tuplas, estos datos que se guardan no tienen necesariamente que ser del mismo tipo. Pero estas, a diferencia de las tuplas si pueden ser mutadas o modificadas. \n",
    "\n",
    "La declaracion de listas es similar a al declaracion de tuplas, a diferencia que estas se declaran entre corchetes `[ ]`. "
   ]
  },
  {
   "cell_type": "code",
   "execution_count": null,
   "metadata": {},
   "outputs": [],
   "source": [
    "#creacion de Lista\n",
    "mi_lista= [1,2,3,4,5,6,7,8,9,10]\n",
    "mi_lista"
   ]
  },
  {
   "cell_type": "code",
   "execution_count": null,
   "metadata": {},
   "outputs": [],
   "source": [
    "mi_lista[0]= \"Se pueden reemplazar valores\"\n",
    "mi_lista"
   ]
  },
  {
   "cell_type": "code",
   "execution_count": null,
   "metadata": {},
   "outputs": [],
   "source": [
    "#de igual forma podemos llamar a cualquier valor de la lista\n",
    "print(\"ultimo valor de la lista: \",mi_lista[-1])\n",
    "print(\"quinto valor de la lista: \", mi_lista[5])"
   ]
  },
  {
   "cell_type": "markdown",
   "metadata": {},
   "source": [
    "#### Rebanado \n",
    "\n",
    "Tanto en listas como en tuplas podemos hacer un rebanado, que significa tomar una porcion de los datos que presente cada una de estas y no su totalidad. Funciona de la siguiente forma, si desamos saber los datos desde la posicion 2 a la posicion 5 lo expresamos de la siguiente forma `mi_lista[2:5]`, es decir separamos los indices con `:`"
   ]
  },
  {
   "cell_type": "code",
   "execution_count": null,
   "metadata": {},
   "outputs": [],
   "source": [
    "mi_lista= [1,2,3,4,5,6,7,8,9,10]\n",
    "mi_lista[2:5]"
   ]
  },
  {
   "cell_type": "markdown",
   "metadata": {},
   "source": [
    "**Nota**: Toma los valores desde el primer indice hasta el segundo indice - 1.\n",
    "\n",
    "De igual forma funciona si queremos utilizar los datos desde la posicion dos, `mi_lista[2:]`"
   ]
  },
  {
   "cell_type": "code",
   "execution_count": null,
   "metadata": {},
   "outputs": [],
   "source": [
    "mi_lista[2:]"
   ]
  },
  {
   "cell_type": "code",
   "execution_count": null,
   "metadata": {},
   "outputs": [],
   "source": [
    "#desde el 3 ultimo valor hacia adelante\n",
    "mi_lista[-3:]"
   ]
  },
  {
   "cell_type": "markdown",
   "metadata": {},
   "source": [
    "o si queremos hasta la posicion 6, `mi_lista[:6]`"
   ]
  },
  {
   "cell_type": "code",
   "execution_count": null,
   "metadata": {},
   "outputs": [],
   "source": [
    "mi_lista[:6]"
   ]
  },
  {
   "cell_type": "markdown",
   "metadata": {},
   "source": [
    "La notacion del rebanado en realidad tiene tres parametros `[a:b:c]` donde cada uno de estos representa lo siguiente:\n",
    "\n",
    "   * a: Dato inicial de rebanado.\n",
    "   * b: Dato final del rebanado.\n",
    "   * c: numero de pasos. Se refiere a cojo un numero cada c pasos.\n",
    "  \n",
    "Creemos una lista apartir de la lista que ya hemos creado, la cual nos tome los indices pares hasta el quinto indice (recuerde que los indices pares no necesariamente nos retornaran numeros pares sino los que se encuentran en dichos espacios).\n",
    "\n"
   ]
  },
  {
   "cell_type": "code",
   "execution_count": null,
   "metadata": {},
   "outputs": [],
   "source": [
    "mi_lista[1:6:2]"
   ]
  },
  {
   "cell_type": "markdown",
   "metadata": {},
   "source": [
    "###  Operaciones aritmeticas y listas\n",
    "\n",
    "Es posible utilizar operadores aritmeticos como `+` (concatenar) y `*` (repetir) para las listas y estas responderan a ellos de la siguiente forma:\n"
   ]
  },
  {
   "cell_type": "code",
   "execution_count": null,
   "metadata": {},
   "outputs": [],
   "source": [
    "[1,2,3,4,5] + [1,2,3]"
   ]
  },
  {
   "cell_type": "code",
   "execution_count": null,
   "metadata": {},
   "outputs": [],
   "source": [
    "[1,2]*3"
   ]
  },
  {
   "cell_type": "markdown",
   "metadata": {},
   "source": [
    "#### Operando con las listas\n",
    "\n",
    "Una función en programacion es un subprograma o un subalgoritmo el cual opera con unos parametros de entrada. Esta nos permitirá resolver una tarea especifica. En Python ya existen unas funciones prestablecidas, pero de igual forma podemos crear unas nuevas para resolver problemas muy particulares. En esta sección mostraremos algunas funciones prestablecidas que son muy utiles para operar con listas.\n",
    "\n",
    "|Función|Descripción|\n",
    "|-------|-----------|\n",
    "|sorted() o sort()|Esta funcion sirve para ordenar una lista (numerica) ascendentemente|\n",
    "|append()| Agrega un elemento al final de la lista|\n",
    "|insert(pos , a) | inserta un valor \"a\" en la posicion \"pos\"|\n",
    "|extend(otra_lista)| Concatena la lista actual con otra_lista|\n",
    "|remove(a)| Remueve de la lista un valor que sea igual a \"a\" (el primero que encuentre por si hay mas de uno)|\n",
    "|pop(pos)| Remueve el elemento de la posicion \"pos\" de la lista|\n",
    "|index(a)| Devuelve el indice o posición de el primer elemento igual a \"a\" en la lista|\n",
    "|count(a)| Cuenta el numero de veces que \"a\" está en la lista|\n",
    "|reverse()|Invierte los elementos de la lista|\n",
    "|copy()| Devuelve una copia de la lista|\n",
    "|len()| Nos dice la longitud de la lista (o tupla)|\n",
    "|max()| Devuelve el maximo valor|\n",
    "|min()| Devuelve el menor valor|\n",
    "\n"
   ]
  },
  {
   "cell_type": "code",
   "execution_count": null,
   "metadata": {},
   "outputs": [],
   "source": [
    "lista_2 = [5,3,-7,1,-2,7,8,-3,4,-1,-9,-6,2,3,-12]\n",
    "\n",
    "#Ordenar\n",
    "lista_2.sort()\n",
    "print(\"ordenar\", lista_2)"
   ]
  },
  {
   "cell_type": "code",
   "execution_count": null,
   "metadata": {},
   "outputs": [],
   "source": [
    "#Agregar nuevo valor a la lista\n",
    "lista_2.append(\"Nuevo valor\")\n",
    "print(\"Agregar un valor nuevo\",lista_2)"
   ]
  },
  {
   "cell_type": "code",
   "execution_count": null,
   "metadata": {},
   "outputs": [],
   "source": [
    "#Agregar nuevo valor en una posicion especifica\n",
    "lista_2.insert(0,\"Nuevo valor inicial\")\n",
    "print(\"Agregar en posicion especifica\",lista_2)"
   ]
  },
  {
   "cell_type": "code",
   "execution_count": null,
   "metadata": {},
   "outputs": [],
   "source": [
    "#Juntar dos listas\n",
    "lista_juntar = [10,9,8]\n",
    "lista_2.extend(lista_juntar)\n",
    "print(\"listas juntas\",lista_2)"
   ]
  },
  {
   "cell_type": "code",
   "execution_count": null,
   "metadata": {},
   "outputs": [],
   "source": [
    "#Remover un valor de la lista\n",
    "lista_2.remove(\"Nuevo valor\")\n",
    "print(\"Removido\",lista_2)"
   ]
  },
  {
   "cell_type": "code",
   "execution_count": null,
   "metadata": {},
   "outputs": [],
   "source": [
    "#Remueve un valor en una posicion especifica\n",
    "lista_2.pop(0)\n",
    "print(\"Removido\",lista_2)\n"
   ]
  },
  {
   "cell_type": "code",
   "execution_count": null,
   "metadata": {},
   "outputs": [],
   "source": [
    "#Devuelve el indice del primer valor igual a \"a\"\n",
    "print(\"8 se encuentra en la posicion \",lista_2.index(8))"
   ]
  },
  {
   "cell_type": "code",
   "execution_count": null,
   "metadata": {},
   "outputs": [],
   "source": [
    "#Cuenta el numero de veces que \"a\" esta en la lista\n",
    "print(\"El numero 3 se encuentra \", lista_2.count(3),\" veces repetido\")"
   ]
  },
  {
   "cell_type": "code",
   "execution_count": null,
   "metadata": {},
   "outputs": [],
   "source": [
    "#Reverse invierte los numeros\n",
    "lista_2.reverse()\n",
    "print(\"lista del otro lado\", lista_2)"
   ]
  },
  {
   "cell_type": "code",
   "execution_count": null,
   "metadata": {},
   "outputs": [],
   "source": [
    "#copiar una lista\n",
    "lista_copia = lista_2.copy()\n",
    "print(lista_copia)"
   ]
  },
  {
   "cell_type": "code",
   "execution_count": null,
   "metadata": {},
   "outputs": [],
   "source": [
    "#Max, Min y Len\n",
    "print(\"Maximo\", max(lista_2), \"Minimo\", min(lista_2),\"longitud\",len(lista_2))"
   ]
  },
  {
   "cell_type": "markdown",
   "metadata": {},
   "source": [
    "#### conclusiones?"
   ]
  }
 ],
 "metadata": {
  "kernelspec": {
   "display_name": "Python 3",
   "language": "python",
   "name": "python3"
  },
  "language_info": {
   "codemirror_mode": {
    "name": "ipython",
    "version": 3
   },
   "file_extension": ".py",
   "mimetype": "text/x-python",
   "name": "python",
   "nbconvert_exporter": "python",
   "pygments_lexer": "ipython3",
   "version": "3.7.1"
  }
 },
 "nbformat": 4,
 "nbformat_minor": 2
}
